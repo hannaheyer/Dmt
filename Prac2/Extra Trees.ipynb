{
 "cells": [
  {
   "cell_type": "code",
   "execution_count": 1,
   "metadata": {
    "collapsed": true
   },
   "outputs": [],
   "source": [
    "import pandas as pd\n",
    "from sklearn.ensemble import ExtraTreesClassifier\n",
    "from sklearn.model_selection import cross_val_score\n",
    "from sklearn.datasets import make_blobs\n",
    "from sklearn.ensemble import RandomForestClassifier\n",
    "from sklearn.ensemble import ExtraTreesClassifier\n",
    "from sklearn.tree import DecisionTreeClassifier\n",
    "\n",
    "\n",
    "train= pd.read_csv('C:/Users/roger/Documents/DMT/2/training_set_VU_DM_2014.csv')\n",
    "test= pd.read_csv('C:/Users/roger/Documents/DMT/2/test_set_VU_DM_2014.csv')"
   ]
  },
  {
   "cell_type": "code",
   "execution_count": 6,
   "metadata": {
    "collapsed": true
   },
   "outputs": [],
   "source": [
    "#randomForestIntro\n",
    "from sklearn.ensemble import RandomForestClassifier\n",
    "\n",
    "#X = [[ 4958347, 54], [1, 1]]\n",
    "#Y = [4959183, 50]\n",
    "clf = RandomForestClassifier(n_estimators=10)\n",
    "clf = clf.fit(X, Y)"
   ]
  },
  {
   "cell_type": "code",
   "execution_count": null,
   "metadata": {
    "collapsed": true
   },
   "outputs": [],
   "source": [
    "X = train.drop(['booking_bool', 'date_time', 'orig_destination_distance', 'comp1_rate', 'comp1_inv', 'comp1_rate_percent_diff', 'comp2_rate', 'comp2_inv', 'comp2_rate_percent_diff','comp3_rate', 'comp3_inv', 'comp3_rate_percent_diff','comp4_rate', 'comp4_inv', 'comp4_rate_percent_diff','comp5_rate', 'comp5_inv', 'comp5_rate_percent_diff','comp6_rate', 'comp6_inv', 'comp6_rate_percent_diff','comp7_rate', 'comp7_inv', 'comp7_rate_percent_diff','comp8_rate', 'comp8_inv', 'comp8_rate_percent_diff'  ], axis=1)\n",
    "X = X.fillna(train.mean())\n",
    "Y = train['booking_bool']"
   ]
  },
  {
   "cell_type": "code",
   "execution_count": null,
   "metadata": {
    "collapsed": true
   },
   "outputs": [],
   "source": [
    "#decision treea\n",
    "#X, y = make_blobs(n_samples=4958347, n_features=54, centers=90000, random_state=0) \n",
    "#clf = DecisionTreeClassifier(max_depth=None, min_samples_split=2, random_state=0)\n",
    "#scores = cross_val_score(clf, X, Y)\n",
    "#scores.mean()\n"
   ]
  },
  {
   "cell_type": "code",
   "execution_count": null,
   "metadata": {
    "collapsed": true
   },
   "outputs": [],
   "source": [
    "#sampling attempt\n",
    "X = train.drop(['booking_bool', 'date_time', 'orig_destination_distance', 'comp1_rate', 'comp1_inv', 'comp1_rate_percent_diff', 'comp2_rate', 'comp2_inv', 'comp2_rate_percent_diff','comp3_rate', 'comp3_inv', 'comp3_rate_percent_diff','comp4_rate', 'comp4_inv', 'comp4_rate_percent_diff','comp5_rate', 'comp5_inv', 'comp5_rate_percent_diff','comp6_rate', 'comp6_inv', 'comp6_rate_percent_diff','comp7_rate', 'comp7_inv', 'comp7_rate_percent_diff','comp8_rate', 'comp8_inv', 'comp8_rate_percent_diff'  ], axis=1)\n",
    "X = X.sample(frac=0.1, replace=True)\n",
    "Y = X['booking_bool']"
   ]
  },
  {
   "cell_type": "code",
   "execution_count": null,
   "metadata": {
    "collapsed": true
   },
   "outputs": [],
   "source": [
    "clf = ExtraTreesClassifier(n_estimators=64, max_depth=None,min_samples_split=2, random_state=-1)\n",
    "scores = cross_val_score(clf, X, y)"
   ]
  }
 ],
 "metadata": {
  "kernelspec": {
   "display_name": "Python 3",
   "language": "python",
   "name": "python3"
  },
  "language_info": {
   "codemirror_mode": {
    "name": "ipython",
    "version": 3
   },
   "file_extension": ".py",
   "mimetype": "text/x-python",
   "name": "python",
   "nbconvert_exporter": "python",
   "pygments_lexer": "ipython3",
   "version": "3.6.3"
  }
 },
 "nbformat": 4,
 "nbformat_minor": 2
}
